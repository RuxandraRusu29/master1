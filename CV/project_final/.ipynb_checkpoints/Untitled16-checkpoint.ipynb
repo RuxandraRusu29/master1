{
 "cells": [
  {
   "cell_type": "code",
   "execution_count": null,
   "metadata": {
    "colab": {
     "base_uri": "https://localhost:8080/"
    },
    "id": "HloTkDg3IDHb",
    "outputId": "e365017f-a36a-4f9e-8863-29f71711f122"
   },
   "outputs": [],
   "source": [
    "from PIL import Image\n",
    "from sklearn.model_selection import train_test_split\n",
    "import tensorflow as tf\n",
    "import numpy as np\n",
    "from matplotlib import image\n",
    "from matplotlib import pyplot as plt\n",
    "import os\n",
    "from tensorflow import keras\n",
    "\n",
    "# The batch size we'll use for training\n",
    "batch_size = 64\n",
    "\n",
    "# Size of the image required to train our model\n",
    "img_size = 128\n",
    "\n",
    "drive_directory = 'archive'\n",
    "x = []\n",
    "y = []\n",
    "for image_file in os.listdir( drive_directory ):\n",
    "    image = Image.open( os.path.join( drive_directory , image_file ) ).resize( ( img_size , img_size ) )\n",
    "    # Normalize the RGB image array\n",
    "    rgb_array = (np.asarray( image ) ) / 255\n",
    "    #create the grayscale image\n",
    "    gray_image = image.convert( 'L' )\n",
    "    #normalize the image\n",
    "    gray_array = ( np.asarray( gray_image ).reshape( ( img_size , img_size , 1 ) ) ) / 255\n",
    "    #check for sanity, ther ewere some problems with the data\n",
    "    if rgb_array.shape == (img_size,img_size,3):\n",
    "      x.append( gray_array )\n",
    "      y.append( rgb_array )\n",
    "\n",
    "print(np.array(x).shape)\n",
    "print(np.array(y).shape)\n",
    "train_x, test_x, train_y, test_y = train_test_split( np.array(x) , np.array(y) , test_size=0.05 )\n",
    "\n",
    "#create the dataset\n",
    "dataset = tf.data.Dataset.from_tensor_slices( ( train_x , train_y ) )\n",
    "dataset = dataset.batch( batch_size )"
   ]
  },
  {
   "cell_type": "code",
   "execution_count": null,
   "metadata": {
    "id": "15pUibPhMmRw"
   },
   "outputs": [],
   "source": [
    "def create_generator_unet():\n",
    "\n",
    "    inputs = tf.keras.layers.Input( shape=( img_size , img_size , 1 ) )\n",
    "\n",
    "    conv1 = tf.keras.layers.Conv2D( 16 , kernel_size=( 5 , 5 ) , strides=1 )( inputs )\n",
    "    conv1 = tf.keras.layers.LeakyReLU()( conv1 )\n",
    "    conv1 = tf.keras.layers.Conv2D( 32 , kernel_size=( 3 , 3 ) , strides=1)( conv1 )\n",
    "    conv1 = tf.keras.layers.LeakyReLU()( conv1 )\n",
    "    conv1 = tf.keras.layers.Conv2D( 32 , kernel_size=( 3 , 3 ) , strides=1)( conv1 )\n",
    "    conv1 = tf.keras.layers.LeakyReLU()( conv1 )\n",
    "\n",
    "    conv2 = tf.keras.layers.Conv2D( 32 , kernel_size=( 5 , 5 ) , strides=1)( conv1 )\n",
    "    conv2 = tf.keras.layers.LeakyReLU()( conv2 )\n",
    "    conv2 = tf.keras.layers.Conv2D( 64 , kernel_size=( 3 , 3 ) , strides=1 )( conv2 )\n",
    "    conv2 = tf.keras.layers.LeakyReLU()( conv2 )\n",
    "    conv2 = tf.keras.layers.Conv2D( 64 , kernel_size=( 3 , 3 ) , strides=1 )( conv2 )\n",
    "    conv2 = tf.keras.layers.LeakyReLU()( conv2 )\n",
    "\n",
    "    conv3 = tf.keras.layers.Conv2D( 64 , kernel_size=( 5 , 5 ) , strides=1 )( conv2 )\n",
    "    conv3 = tf.keras.layers.LeakyReLU()( conv3 )\n",
    "    conv3 = tf.keras.layers.Conv2D( 128 , kernel_size=( 3 , 3 ) , strides=1 )( conv3 )\n",
    "    conv3 = tf.keras.layers.LeakyReLU()( conv3 )\n",
    "    conv3 = tf.keras.layers.Conv2D( 128 , kernel_size=( 3 , 3 ) , strides=1 )( conv3 )\n",
    "    conv3 = tf.keras.layers.LeakyReLU()( conv3 )\n",
    "\n",
    "    bottleneck = tf.keras.layers.Conv2D( 128 , kernel_size=( 3 , 3 ) , strides=1 , activation='tanh' , padding='same' )( conv3 )\n",
    "\n",
    "    concat_1 = tf.keras.layers.Concatenate()( [ bottleneck , conv3 ] )\n",
    "    conv_up_3 = tf.keras.layers.Conv2DTranspose( 128 , kernel_size=( 3 , 3 ) , strides=1 , activation='relu' )( concat_1 )\n",
    "    conv_up_3 = tf.keras.layers.Conv2DTranspose( 128 , kernel_size=( 3 , 3 ) , strides=1 , activation='relu' )( conv_up_3 )\n",
    "    conv_up_3 = tf.keras.layers.Conv2DTranspose( 64 , kernel_size=( 5 , 5 ) , strides=1 , activation='relu' )( conv_up_3 )\n",
    "\n",
    "    concat_2 = tf.keras.layers.Concatenate()( [ conv_up_3 , conv2 ] )\n",
    "    conv_up_2 = tf.keras.layers.Conv2DTranspose( 64 , kernel_size=( 3 , 3 ) , strides=1 , activation='relu' )( concat_2 )\n",
    "    conv_up_2 = tf.keras.layers.Conv2DTranspose( 64 , kernel_size=( 3 , 3 ) , strides=1 , activation='relu' )( conv_up_2 )\n",
    "    conv_up_2 = tf.keras.layers.Conv2DTranspose( 32 , kernel_size=( 5 , 5 ) , strides=1 , activation='relu' )( conv_up_2 )\n",
    "\n",
    "    concat_3 = tf.keras.layers.Concatenate()( [ conv_up_2 , conv1 ] )\n",
    "    conv_up_1 = tf.keras.layers.Conv2DTranspose( 32 , kernel_size=( 3 , 3 ) , strides=1 , activation='relu')( concat_3 )\n",
    "    conv_up_1 = tf.keras.layers.Conv2DTranspose( 32 , kernel_size=( 3 , 3 ) , strides=1 , activation='relu')( conv_up_1 )\n",
    "    conv_up_1 = tf.keras.layers.Conv2DTranspose( 3 , kernel_size=( 5 , 5 ) , strides=1 , activation='relu')( conv_up_1 )\n",
    "\n",
    "    model = tf.keras.models.Model( inputs , conv_up_1 )\n",
    "    return model"
   ]
  },
  {
   "cell_type": "code",
   "execution_count": null,
   "metadata": {
    "id": "3ulbK8RAQK1v"
   },
   "outputs": [],
   "source": [
    "def get_discriminator_model():\n",
    "    layers = [\n",
    "        tf.keras.layers.Conv2D( 32 , kernel_size=( 7 , 7 ) , strides=1 , activation='relu' , input_shape=( img_size , img_size , 3 ) ),\n",
    "        tf.keras.layers.Conv2D( 32 , kernel_size=( 7, 7 ) , strides=1, activation='relu'  ),\n",
    "        tf.keras.layers.MaxPooling2D(),\n",
    "        tf.keras.layers.Conv2D( 64 , kernel_size=( 5 , 5 ) , strides=1, activation='relu'  ),\n",
    "        tf.keras.layers.Conv2D( 64 , kernel_size=( 5 , 5 ) , strides=1, activation='relu'  ),\n",
    "        tf.keras.layers.MaxPooling2D(),\n",
    "        tf.keras.layers.Conv2D( 128 , kernel_size=( 3 , 3 ) , strides=1, activation='relu'  ),\n",
    "        tf.keras.layers.Conv2D( 128 , kernel_size=( 3 , 3 ) , strides=1, activation='relu'  ),\n",
    "        tf.keras.layers.MaxPooling2D(),\n",
    "        tf.keras.layers.Conv2D( 256 , kernel_size=( 3 , 3 ) , strides=1, activation='relu'  ),\n",
    "        tf.keras.layers.Conv2D( 256 , kernel_size=( 3 , 3 ) , strides=1, activation='relu'  ),\n",
    "        tf.keras.layers.MaxPooling2D(),\n",
    "        tf.keras.layers.Flatten(),\n",
    "        tf.keras.layers.Dense( 512, activation='relu'  )  ,\n",
    "        tf.keras.layers.Dense( 128 , activation='relu' ) ,\n",
    "        tf.keras.layers.Dense( 16 , activation='relu' ) ,\n",
    "        tf.keras.layers.Dense( 1 , activation='sigmoid' ) \n",
    "    ]\n",
    "    model = tf.keras.models.Sequential( layers )\n",
    "    return model"
   ]
  },
  {
   "cell_type": "code",
   "execution_count": null,
   "metadata": {
    "id": "aER2QMILQidR"
   },
   "outputs": [],
   "source": [
    "cross_entropy = tf.keras.losses.BinaryCrossentropy()\n",
    "mse = tf.keras.losses.MeanSquaredError()\n",
    "\n",
    "def discriminator_loss(real_output, fake_output):\n",
    "    real_loss = cross_entropy(tf.ones_like(real_output) - tf.random.uniform( shape=real_output.shape , maxval=0.1 ) , real_output)\n",
    "    fake_loss = cross_entropy(tf.zeros_like(fake_output) + tf.random.uniform( shape=fake_output.shape , maxval=0.1  ) , fake_output)\n",
    "    total_loss = real_loss + fake_loss\n",
    "    return total_loss\n",
    "\n",
    "def generator_loss(fake_output , real_y):\n",
    "    real_y = tf.cast( real_y , 'float32' )\n",
    "    return mse( fake_output , real_y )\n",
    "\n",
    "generator_optimizer = tf.keras.optimizers.Adam( 0.0005 )\n",
    "discriminator_optimizer = tf.keras.optimizers.Adam( 0.0005 )\n",
    "\n",
    "generator = create_generator_unet()\n",
    "discriminator = get_discriminator_model()"
   ]
  },
  {
   "cell_type": "code",
   "execution_count": null,
   "metadata": {
    "id": "sSR_PZVbQlqA"
   },
   "outputs": [],
   "source": [
    "@tf.function\n",
    "def train_step( input_x , real_y ):\n",
    "    with tf.GradientTape() as gen_tape, tf.GradientTape() as disc_tape:\n",
    "        \n",
    "        generated_images = generator( input_x , training=True)\n",
    "        gen_loss = generator_loss( generated_images , real_y )\n",
    "\n",
    "        real_output = discriminator( real_y, training=True)\n",
    "        generated_output = discriminator(generated_images, training=True)\n",
    "\n",
    "        #loss of the discriminator\n",
    "        disc_loss = discriminator_loss( real_output, generated_output )\n",
    "        \n",
    "        \n",
    "\n",
    "    # Compute the gradients\n",
    "    gradients_of_generator = gen_tape.gradient(gen_loss, generator.trainable_variables)\n",
    "    gradients_of_discriminator = disc_tape.gradient(disc_loss, discriminator.trainable_variables)\n",
    "\n",
    "    # Optimize with Adam\n",
    "    generator_optimizer.apply_gradients(zip(gradients_of_generator, generator.trainable_variables))\n",
    "    discriminator_optimizer.apply_gradients(zip(gradients_of_discriminator, discriminator.trainable_variables))"
   ]
  },
  {
   "cell_type": "code",
   "execution_count": null,
   "metadata": {
    "colab": {
     "base_uri": "https://localhost:8080/"
    },
    "id": "N8GYaLlkQrm5",
    "outputId": "4deaca63-28a5-4ea1-aebc-3700f208ddd8"
   },
   "outputs": [],
   "source": [
    "num_epochs = 100\n",
    "\n",
    "def print_results():\n",
    "  y = generator( test_x[0 : ] ).numpy()\n",
    "  for i in range(len(test_x)):\n",
    "    plt.figure(figsize=(10,10))\n",
    "    or_image = plt.subplot(3,3,1)\n",
    "    or_image.set_title('Grayscale Input', fontsize=16)\n",
    "    plt.imshow( test_x[i].reshape((128,128)) , cmap='gray' )\n",
    "\n",
    "    in_image = plt.subplot(3,3,2)    \n",
    "    image = Image.fromarray( ( y[i] * 255 ).astype( 'uint8' ) ).resize( ( 1024 , 1024 ) )\n",
    "    image = np.asarray( image )\n",
    "    in_image.set_title('Colorized Output', fontsize=16)\n",
    "    plt.imshow( image )\n",
    "\n",
    "    ou_image = plt.subplot(3,3,3)\n",
    "    image = Image.fromarray( ( test_y[i] * 255 ).astype( 'uint8' ) ).resize( ( 1024 , 1024 ) )\n",
    "    ou_image.set_title('Ground Truth', fontsize=16)\n",
    "    plt.imshow( image )\n",
    "\n",
    "    plt.show()\n",
    "\n",
    "for e in range( num_epochs ):\n",
    "    print( e )\n",
    "    for ( x , y ) in dataset:\n",
    "        # Here ( x , y ) represents a batch from our training dataset.\n",
    "        print( x.shape )\n",
    "        train_step( x , y )\n",
    "    print_results()\n"
   ]
  }
 ],
 "metadata": {
  "colab": {
   "collapsed_sections": [],
   "name": "Untitled16.ipynb",
   "provenance": []
  },
  "kernelspec": {
   "display_name": "Python 3 (ipykernel)",
   "language": "python",
   "name": "python3"
  },
  "language_info": {
   "codemirror_mode": {
    "name": "ipython",
    "version": 3
   },
   "file_extension": ".py",
   "mimetype": "text/x-python",
   "name": "python",
   "nbconvert_exporter": "python",
   "pygments_lexer": "ipython3",
   "version": "3.8.10"
  }
 },
 "nbformat": 4,
 "nbformat_minor": 1
}
